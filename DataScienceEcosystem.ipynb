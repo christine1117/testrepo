{
  "metadata": {
    "kernelspec": {
      "name": "python",
      "display_name": "Python (Pyodide)",
      "language": "python"
    },
    "language_info": {
      "codemirror_mode": {
        "name": "python",
        "version": 3
      },
      "file_extension": ".py",
      "mimetype": "text/x-python",
      "name": "python",
      "nbconvert_exporter": "python",
      "pygments_lexer": "ipython3",
      "version": "3.8"
    }
  },
  "nbformat_minor": 5,
  "nbformat": 4,
  "cells": [
    {
      "id": "5539ed70-8151-4fdf-998e-1c3d10fe1995",
      "cell_type": "markdown",
      "source": "# Data Science Tools and Ecosystem",
      "metadata": {}
    },
    {
      "id": "fab6a3d4-c52d-470d-a71d-32be7625be34",
      "cell_type": "markdown",
      "source": "In this notebook, Data Science Tools and Ecosystem are summarized.",
      "metadata": {}
    },
    {
      "id": "c8b3e305-09f7-4ced-b2ce-4a0987899ffe",
      "cell_type": "markdown",
      "source": "**Objectives:**\n<ul>\n<li>List popular languages for Data Science</li>\n<li>List common libraries for Data Science</li>\n<li>Data Science Tools</li>\n</ul>",
      "metadata": {}
    },
    {
      "id": "1322a5dd-59a0-41be-abcd-cad3dc87becf",
      "cell_type": "markdown",
      "source": "Some of the popular languages that Data Scientists use are:\n<ol>\n<li>Python</li>\n<li>R</li>\n<li>SQL</li>\n</ol>",
      "metadata": {}
    },
    {
      "id": "adddcb16-5e52-4fd8-861a-9aeb38ff4882",
      "cell_type": "markdown",
      "source": "Some of the commonly used libraries used by Data Scientists include:\n<ol>\n<li>Numpy</li>\n<li>Pandas</li>\n<li>Seaborn</li>\n</ol>",
      "metadata": {}
    },
    {
      "id": "e0a654a1-2d88-4705-b40e-028de5c18fcc",
      "cell_type": "markdown",
      "source": "| Data Science Tools |\n|--------------------|\n| RStudio           |\n| Jupyter Notebook  |\n| Apache Spark      |",
      "metadata": {}
    },
    {
      "id": "c0c1828e-f1e9-4945-ac2f-91a8d30ae35d",
      "cell_type": "markdown",
      "source": "### Below are a few examples of evaluating arithmetic expressions in Python\nThis a simple arithmetic expression to mutiply then add integers",
      "metadata": {}
    },
    {
      "id": "a30da6d7-46f3-40e7-9629-4013e99458e0",
      "cell_type": "code",
      "source": "(3*4)+5",
      "metadata": {
        "trusted": true
      },
      "outputs": [
        {
          "execution_count": 3,
          "output_type": "execute_result",
          "data": {
            "text/plain": "17"
          },
          "metadata": {}
        }
      ],
      "execution_count": 3
    },
    {
      "id": "13da7cb9-f880-41c7-b4c8-8fd54f746f99",
      "cell_type": "markdown",
      "source": "This will convert 200 minutes to hours by diving by 60",
      "metadata": {}
    },
    {
      "id": "125a10ef-fc60-495a-97aa-df785f4beff9",
      "cell_type": "code",
      "source": "200/60",
      "metadata": {
        "trusted": true
      },
      "outputs": [
        {
          "execution_count": 4,
          "output_type": "execute_result",
          "data": {
            "text/plain": "3.3333333333333335"
          },
          "metadata": {}
        }
      ],
      "execution_count": 4
    },
    {
      "id": "87bbda70-10ea-48bf-a156-8a88dc4bfc71",
      "cell_type": "markdown",
      "source": "## Author\nChristine",
      "metadata": {}
    },
    {
      "id": "a6633a72-b6dc-4221-9617-8019e5b568dd",
      "cell_type": "code",
      "source": "",
      "metadata": {
        "trusted": true
      },
      "outputs": [],
      "execution_count": null
    }
  ]
}